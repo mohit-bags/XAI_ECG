{
 "cells": [
  {
   "cell_type": "markdown",
   "id": "dynamic-olive",
   "metadata": {},
   "source": [
    "# Creating and summarizing information from gb grad cam maps\n",
    "* organizing code\n",
    "* removing multiclass case\n",
    "* extract quantitative information from the maps"
   ]
  },
  {
   "cell_type": "markdown",
   "id": "breeding-tribute",
   "metadata": {},
   "source": [
    "# WORKING"
   ]
  },
  {
   "cell_type": "code",
   "execution_count": null,
   "id": "photographic-america",
   "metadata": {
    "execution": {
     "iopub.execute_input": "2021-02-23T07:59:10.203694Z",
     "iopub.status.busy": "2021-02-23T07:59:10.203345Z",
     "iopub.status.idle": "2021-02-23T07:59:11.129739Z",
     "shell.execute_reply": "2021-02-23T07:59:11.127709Z",
     "shell.execute_reply.started": "2021-02-23T07:59:10.203606Z"
    },
    "tags": []
   },
   "outputs": [],
   "source": [
    "from prep_test_data import *\n",
    "from pathlib import Path\n",
    "import json\n",
    "import torch\n",
    "import torchray\n",
    "from matplotlib import pyplot as plt\n",
    "from torchray.attribution.common import Probe, get_module\n",
    "from torchray.attribution.grad_cam import gradient_to_grad_cam_saliency\n",
    "from torchray.attribution.guided_backprop import GuidedBackpropReLU\n",
    "import shutil\n",
    "import numpy as np\n",
    "import cv2"
   ]
  },
  {
   "cell_type": "markdown",
   "id": "adjacent-mitchell",
   "metadata": {},
   "source": [
    "-------------------------------------------------------"
   ]
  },
  {
   "cell_type": "markdown",
   "id": "going-sociology",
   "metadata": {},
   "source": [
    "## Main methods below"
   ]
  },
  {
   "cell_type": "code",
   "execution_count": null,
   "id": "deadly-panama",
   "metadata": {
    "execution": {
     "iopub.execute_input": "2021-02-20T15:17:18.488115Z",
     "iopub.status.busy": "2021-02-20T15:17:18.487386Z",
     "iopub.status.idle": "2021-02-20T15:17:18.497694Z",
     "shell.execute_reply": "2021-02-20T15:17:18.496628Z",
     "shell.execute_reply.started": "2021-02-20T15:17:18.488029Z"
    },
    "tags": []
   },
   "outputs": [],
   "source": [
    "def create_maps_folders(main_folder, beat, labels, delete_prior):\n",
    "    if delete_prior and Path(main_folder).exists():\n",
    "        shutil.rmtree(main_folder)\n",
    "    for label in labels:\n",
    "        folder = Path(main_folder) / f\"label_{beat}_beat/\"\n",
    "        Path(folder / label).mkdir(parents=True, exist_ok=True)\n",
    "    return folder"
   ]
  },
  {
   "cell_type": "code",
   "execution_count": null,
   "id": "metropolitan-hearts",
   "metadata": {
    "execution": {
     "iopub.execute_input": "2021-02-20T15:17:18.608738Z",
     "iopub.status.busy": "2021-02-20T15:17:18.608471Z",
     "iopub.status.idle": "2021-02-20T15:17:18.613697Z",
     "shell.execute_reply": "2021-02-20T15:17:18.612828Z",
     "shell.execute_reply.started": "2021-02-20T15:17:18.608710Z"
    },
    "tags": []
   },
   "outputs": [],
   "source": [
    "def deprocess(image):\n",
    "    transform = transforms.Compose([\n",
    "        transforms.Normalize(mean=[0, 0, 0], std=[4.3668, 4.4643, 4.4444]),\n",
    "        transforms.Normalize(mean=[-0.485, -0.456, -0.406], std=[1, 1, 1]),\n",
    "        transforms.ToPILImage(),\n",
    "    ])\n",
    "    return transform(image)\n",
    "\n",
    "def show_img(PIL_IMG):\n",
    "    plt.imshow(np.asarray(PIL_IMG))"
   ]
  },
  {
   "cell_type": "code",
   "execution_count": null,
   "id": "capital-issue",
   "metadata": {
    "execution": {
     "iopub.execute_input": "2021-04-15T07:48:18.202078Z",
     "iopub.status.busy": "2021-04-15T07:48:18.201382Z",
     "iopub.status.idle": "2021-04-15T07:48:18.213425Z",
     "shell.execute_reply": "2021-04-15T07:48:18.212071Z",
     "shell.execute_reply.started": "2021-04-15T07:48:18.201892Z"
    },
    "tags": []
   },
   "outputs": [],
   "source": [
    "def deprocess_image_gb(img):\n",
    "    \"\"\" see https://github.com/jacobgil/keras-grad-cam/blob/master/grad-cam.py#L65 \"\"\"\n",
    "    img = img - np.mean(img)\n",
    "    img = img / (np.std(img) + 1e-5)\n",
    "    img = img * 0.1\n",
    "    img = img + 0.5\n",
    "    img = np.clip(img, 0, 1)\n",
    "    return np.uint8(img*255)"
   ]
  },
  {
   "cell_type": "code",
   "execution_count": null,
   "id": "checked-bottom",
   "metadata": {
    "execution": {
     "iopub.execute_input": "2021-02-20T15:17:19.436547Z",
     "iopub.status.busy": "2021-02-20T15:17:19.436090Z",
     "iopub.status.idle": "2021-02-20T15:17:19.448063Z",
     "shell.execute_reply": "2021-02-20T15:17:19.447164Z",
     "shell.execute_reply.started": "2021-02-20T15:17:19.436493Z"
    },
    "tags": []
   },
   "outputs": [],
   "source": [
    "class GuidedBackpropReLUModel:\n",
    "    def __init__(self, model):\n",
    "        self.model = model.cpu()\n",
    "#         self.model.eval()\n",
    "\n",
    "        def recursive_relu_apply(module_top):\n",
    "            for idx, module in module_top._modules.items():\n",
    "                recursive_relu_apply(module)\n",
    "                if module.__class__.__name__ == 'ReLU':\n",
    "                    module_top._modules[idx] = GuidedBackpropReLU.apply\n",
    "\n",
    "        # replace ReLU with GuidedBackpropReLU\n",
    "        recursive_relu_apply(self.model)\n",
    "\n",
    "    def forward(self, input_img):\n",
    "        return self.model(input_img)\n",
    "\n",
    "    def __call__(self, input_img, target_category=None):\n",
    "\n",
    "        input_img = input_img.requires_grad_(True)\n",
    "\n",
    "        output = self.forward(input_img)\n",
    "\n",
    "        if target_category == None:\n",
    "            target_category = np.argmax(output.cpu().data.numpy())\n",
    "\n",
    "        one_hot = np.zeros((1, output.size()[-1]), dtype=np.float32)\n",
    "        one_hot[0][target_category] = 1\n",
    "        one_hot = torch.from_numpy(one_hot).requires_grad_(True)\n",
    "\n",
    "        one_hot = torch.sum(one_hot * output)\n",
    "        one_hot.backward(retain_graph=True)\n",
    "        output = input_img.grad.cpu().data.numpy()\n",
    "        output = output[0, :, :, :]\n",
    "\n",
    "        return output"
   ]
  },
  {
   "cell_type": "code",
   "execution_count": null,
   "id": "gorgeous-andorra",
   "metadata": {
    "execution": {
     "iopub.execute_input": "2021-02-20T15:17:19.457369Z",
     "iopub.status.busy": "2021-02-20T15:17:19.457164Z",
     "iopub.status.idle": "2021-02-20T15:17:19.465602Z",
     "shell.execute_reply": "2021-02-20T15:17:19.465119Z",
     "shell.execute_reply.started": "2021-02-20T15:17:19.457346Z"
    },
    "tags": []
   },
   "outputs": [],
   "source": [
    "def guided_backprop_grad_cam(model, data, main_folder, n_batches=None):\n",
    "    gb_model = GuidedBackpropReLUModel(model=model)\n",
    "    classes = data[\"test\"].dataset.classes\n",
    "    i = 0\n",
    "    for inputs, labels in data['test']:\n",
    "        print(f\"{i}/{int(len(data['test'].dataset.samples)/16)}\", end=\"\\r\")\n",
    "        inputs = inputs#.to('cuda:0')\n",
    "        labels = labels\n",
    "        x = inputs\n",
    "        x.requires_grad_();\n",
    "        saliency_layer = get_module(model, model.layer4)\n",
    "        probe = Probe(saliency_layer, target='output')\n",
    "        y = model(x)\n",
    "        score_max_index = y.argmax(dim=1)\n",
    "        z = y[:, score_max_index]\n",
    "        z.backward(torch.ones_like(z))\n",
    "        saliency = gradient_to_grad_cam_saliency(probe.data[0])\n",
    "\n",
    "        for index in range(len(saliency)): \n",
    "            plt.figure()\n",
    "            heatmap = np.float32(saliency[index, 0].cpu().detach())\n",
    "            img = np.array(deprocess(x[index].cpu().detach()))\n",
    "\n",
    "            heatmap = cv2.resize(heatmap, (img.shape[1], img.shape[0]))\n",
    "            heatmap = np.uint8(255 * heatmap)\n",
    "            cam_mask = cv2.merge([heatmap, heatmap, heatmap])\n",
    "\n",
    "            gb = gb_model(x[index].unsqueeze(0).detach().cpu(), target_category=labels[index].cpu())\n",
    "            gb = gb.transpose((1, 2, 0))\n",
    "            cam_gb = deprocess_image_gb(cam_mask*gb) # HERE!!!!!\n",
    "\n",
    "\n",
    "            img1 = plt.imshow(cam_gb)\n",
    "\n",
    "            plt.axis('off')\n",
    "\n",
    "            label = classes[labels[index]]\n",
    "\n",
    "            plt.savefig(str(main_folder / f\"{label}/{i}_{index}.png\"))\n",
    "            plt.close()\n",
    "        i += 1"
   ]
  },
  {
   "cell_type": "code",
   "execution_count": null,
   "id": "typical-mistake",
   "metadata": {
    "execution": {
     "iopub.execute_input": "2021-02-20T15:17:19.488337Z",
     "iopub.status.busy": "2021-02-20T15:17:19.488185Z",
     "iopub.status.idle": "2021-02-20T15:17:19.491697Z",
     "shell.execute_reply": "2021-02-20T15:17:19.490966Z",
     "shell.execute_reply.started": "2021-02-20T15:17:19.488321Z"
    },
    "tags": []
   },
   "outputs": [],
   "source": [
    "def create_gb_grad_cam_maps_one_heartbeat(data_path, models_main_path, model_name, beat, saliency_maps_path, nr_egs):\n",
    "    data_prep = DataPreparation(str(data_path))\n",
    "    data, size = data_prep.create_dataloaders(16, False, 4)\n",
    "    model_path = models_main_path / f\"label_{beat}/{model_name}.pth\"\n",
    "    model = torch.load(model_path)\n",
    "    model.eval();\n",
    "    guided_backprop_grad_cam(model, data, saliency_maps_path, nr_egs)"
   ]
  },
  {
   "cell_type": "markdown",
   "id": "alive-shell",
   "metadata": {},
   "source": [
    "----------------------------------------------------------------"
   ]
  },
  {
   "cell_type": "markdown",
   "id": "overall-worship",
   "metadata": {},
   "source": [
    "## Configuration and run methods!"
   ]
  },
  {
   "cell_type": "code",
   "execution_count": null,
   "id": "applied-welcome",
   "metadata": {
    "execution": {
     "iopub.execute_input": "2021-02-20T15:17:19.564460Z",
     "iopub.status.busy": "2021-02-20T15:17:19.564301Z",
     "iopub.status.idle": "2021-02-20T15:17:19.567432Z",
     "shell.execute_reply": "2021-02-20T15:17:19.566948Z",
     "shell.execute_reply.started": "2021-02-20T15:17:19.564442Z"
    },
    "tags": []
   },
   "outputs": [],
   "source": [
    "with open(\"../config.json\") as f:\n",
    "    config_data = json.load(f)\n",
    "    f.close()"
   ]
  },
  {
   "cell_type": "code",
   "execution_count": null,
   "id": "brutal-onion",
   "metadata": {
    "execution": {
     "iopub.execute_input": "2021-02-20T15:17:19.603486Z",
     "iopub.status.busy": "2021-02-20T15:17:19.603325Z",
     "iopub.status.idle": "2021-02-20T15:17:19.606379Z",
     "shell.execute_reply": "2021-02-20T15:17:19.605845Z",
     "shell.execute_reply.started": "2021-02-20T15:17:19.603469Z"
    },
    "tags": []
   },
   "outputs": [],
   "source": [
    "HEARTBEAT = \"initial\"\n",
    "MAP_DIR = \"../attribution_maps/gb_grad_cam_maps\"\n",
    "DELETE_PRIOR_DIR = True\n",
    "TEST_DATA_PATH = Path(f'../data/figures_{HEARTBEAT}/test')\n",
    "MODELS_PATH = Path(f\"../models\")\n",
    "MODEL_NAME = \"resnet50_d_19_t_16_46\"\n",
    "NR_BATCHES = 1"
   ]
  },
  {
   "cell_type": "code",
   "execution_count": null,
   "id": "offshore-neighborhood",
   "metadata": {
    "execution": {
     "iopub.execute_input": "2021-02-20T15:17:19.630996Z",
     "iopub.status.busy": "2021-02-20T15:17:19.630839Z",
     "iopub.status.idle": "2021-02-20T15:17:20.400097Z",
     "shell.execute_reply": "2021-02-20T15:17:20.399066Z",
     "shell.execute_reply.started": "2021-02-20T15:17:19.630979Z"
    },
    "tags": []
   },
   "outputs": [],
   "source": [
    "gradcam_folder = create_maps_folders(MAP_DIR, HEARTBEAT, config_data['labels_bin'], DELETE_PRIOR_DIR)\n",
    "create_gb_grad_cam_maps_one_heartbeat(TEST_DATA_PATH, MODELS_PATH, MODEL_NAME, HEARTBEAT, gradcam_folder, NR_BATCHES)"
   ]
  },
  {
   "cell_type": "code",
   "execution_count": null,
   "id": "editorial-acting",
   "metadata": {},
   "outputs": [],
   "source": []
  },
  {
   "cell_type": "code",
   "execution_count": null,
   "id": "transsexual-mineral",
   "metadata": {},
   "outputs": [],
   "source": []
  }
 ],
 "metadata": {
  "kernelspec": {
   "display_name": "Python 3",
   "language": "python",
   "name": "python3"
  },
  "language_info": {
   "codemirror_mode": {
    "name": "ipython",
    "version": 3
   },
   "file_extension": ".py",
   "mimetype": "text/x-python",
   "name": "python",
   "nbconvert_exporter": "python",
   "pygments_lexer": "ipython3",
   "version": "3.6.5"
  }
 },
 "nbformat": 4,
 "nbformat_minor": 5
}
